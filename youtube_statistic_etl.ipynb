{
 "cells": [
  {
   "cell_type": "markdown",
   "id": "cb1a9906",
   "metadata": {},
   "source": [
    "# YouTube Statistic ETL\n",
    "\n",
    "####  This notebook takes the raw CSV files, converts them into dataframe, transforms it (cleans it) and then uploads them into the PostgreSQL database"
   ]
  },
  {
   "cell_type": "code",
   "execution_count": 1,
   "id": "31de9ea9",
   "metadata": {},
   "outputs": [],
   "source": [
    "# Importing the required modules\n",
    "\n",
    "import pandas as pd\n",
    "from sqlalchemy import create_engine, inspect\n",
    "from credentials import my_password, my_postgres"
   ]
  },
  {
   "cell_type": "markdown",
   "id": "c036c015",
   "metadata": {},
   "source": [
    "### Extract CSVs into DataFrames\n",
    "\n",
    "* Read the two csv files (video-stats.csv, comments.csv) into dataframe using pandas"
   ]
  },
  {
   "cell_type": "code",
   "execution_count": 2,
   "id": "2ba9e492",
   "metadata": {},
   "outputs": [
    {
     "data": {
      "text/html": [
       "<div>\n",
       "<style scoped>\n",
       "    .dataframe tbody tr th:only-of-type {\n",
       "        vertical-align: middle;\n",
       "    }\n",
       "\n",
       "    .dataframe tbody tr th {\n",
       "        vertical-align: top;\n",
       "    }\n",
       "\n",
       "    .dataframe thead th {\n",
       "        text-align: right;\n",
       "    }\n",
       "</style>\n",
       "<table border=\"1\" class=\"dataframe\">\n",
       "  <thead>\n",
       "    <tr style=\"text-align: right;\">\n",
       "      <th></th>\n",
       "      <th>Title</th>\n",
       "      <th>Video ID</th>\n",
       "      <th>Published At</th>\n",
       "      <th>Keyword</th>\n",
       "      <th>Likes</th>\n",
       "      <th>Comments</th>\n",
       "      <th>Views</th>\n",
       "    </tr>\n",
       "  </thead>\n",
       "  <tbody>\n",
       "    <tr>\n",
       "      <th>0</th>\n",
       "      <td>Apple Pay Is Killing the Physical Wallet After...</td>\n",
       "      <td>wAZZ-UWGVHI</td>\n",
       "      <td>2022-08-23</td>\n",
       "      <td>tech</td>\n",
       "      <td>3407.0</td>\n",
       "      <td>672.0</td>\n",
       "      <td>135612.0</td>\n",
       "    </tr>\n",
       "    <tr>\n",
       "      <th>1</th>\n",
       "      <td>The most EXPENSIVE thing I own.</td>\n",
       "      <td>b3x28s61q3c</td>\n",
       "      <td>2022-08-24</td>\n",
       "      <td>tech</td>\n",
       "      <td>76779.0</td>\n",
       "      <td>4306.0</td>\n",
       "      <td>1758063.0</td>\n",
       "    </tr>\n",
       "    <tr>\n",
       "      <th>2</th>\n",
       "      <td>My New House Gaming Setup is SICK!</td>\n",
       "      <td>4mgePWWCAmA</td>\n",
       "      <td>2022-08-23</td>\n",
       "      <td>tech</td>\n",
       "      <td>63825.0</td>\n",
       "      <td>3338.0</td>\n",
       "      <td>1564007.0</td>\n",
       "    </tr>\n",
       "    <tr>\n",
       "      <th>3</th>\n",
       "      <td>Petrol Vs Liquid Nitrogen | Freezing Experimen...</td>\n",
       "      <td>kXiYSI7H2b0</td>\n",
       "      <td>2022-08-23</td>\n",
       "      <td>tech</td>\n",
       "      <td>71566.0</td>\n",
       "      <td>1426.0</td>\n",
       "      <td>922918.0</td>\n",
       "    </tr>\n",
       "    <tr>\n",
       "      <th>4</th>\n",
       "      <td>Best Back to School Tech 2022!</td>\n",
       "      <td>ErMwWXQxHp0</td>\n",
       "      <td>2022-08-08</td>\n",
       "      <td>tech</td>\n",
       "      <td>96513.0</td>\n",
       "      <td>5155.0</td>\n",
       "      <td>1855644.0</td>\n",
       "    </tr>\n",
       "  </tbody>\n",
       "</table>\n",
       "</div>"
      ],
      "text/plain": [
       "                                               Title     Video ID  \\\n",
       "0  Apple Pay Is Killing the Physical Wallet After...  wAZZ-UWGVHI   \n",
       "1                    The most EXPENSIVE thing I own.  b3x28s61q3c   \n",
       "2                 My New House Gaming Setup is SICK!  4mgePWWCAmA   \n",
       "3  Petrol Vs Liquid Nitrogen | Freezing Experimen...  kXiYSI7H2b0   \n",
       "4                     Best Back to School Tech 2022!  ErMwWXQxHp0   \n",
       "\n",
       "  Published At Keyword    Likes  Comments      Views  \n",
       "0   2022-08-23    tech   3407.0     672.0   135612.0  \n",
       "1   2022-08-24    tech  76779.0    4306.0  1758063.0  \n",
       "2   2022-08-23    tech  63825.0    3338.0  1564007.0  \n",
       "3   2022-08-23    tech  71566.0    1426.0   922918.0  \n",
       "4   2022-08-08    tech  96513.0    5155.0  1855644.0  "
      ]
     },
     "execution_count": 2,
     "metadata": {},
     "output_type": "execute_result"
    }
   ],
   "source": [
    "# Extracting video stats csv file into dataframe\n",
    "\n",
    "video_stats_file = \"Resources/videos-stats.csv\"\n",
    "video_stats_df = pd.read_csv(video_stats_file, index_col=0)\n",
    "video_stats_df.head()"
   ]
  },
  {
   "cell_type": "code",
   "execution_count": 3,
   "id": "0fd10d68",
   "metadata": {},
   "outputs": [
    {
     "data": {
      "text/html": [
       "<div>\n",
       "<style scoped>\n",
       "    .dataframe tbody tr th:only-of-type {\n",
       "        vertical-align: middle;\n",
       "    }\n",
       "\n",
       "    .dataframe tbody tr th {\n",
       "        vertical-align: top;\n",
       "    }\n",
       "\n",
       "    .dataframe thead th {\n",
       "        text-align: right;\n",
       "    }\n",
       "</style>\n",
       "<table border=\"1\" class=\"dataframe\">\n",
       "  <thead>\n",
       "    <tr style=\"text-align: right;\">\n",
       "      <th></th>\n",
       "      <th>Video ID</th>\n",
       "      <th>Comment</th>\n",
       "      <th>Likes</th>\n",
       "      <th>Sentiment</th>\n",
       "    </tr>\n",
       "  </thead>\n",
       "  <tbody>\n",
       "    <tr>\n",
       "      <th>0</th>\n",
       "      <td>wAZZ-UWGVHI</td>\n",
       "      <td>Let's not forget that Apple Pay in 2014 requir...</td>\n",
       "      <td>95.0</td>\n",
       "      <td>1.0</td>\n",
       "    </tr>\n",
       "    <tr>\n",
       "      <th>1</th>\n",
       "      <td>wAZZ-UWGVHI</td>\n",
       "      <td>Here in NZ 50% of retailers don’t even have co...</td>\n",
       "      <td>19.0</td>\n",
       "      <td>0.0</td>\n",
       "    </tr>\n",
       "    <tr>\n",
       "      <th>2</th>\n",
       "      <td>wAZZ-UWGVHI</td>\n",
       "      <td>I will forever acknowledge this channel with t...</td>\n",
       "      <td>161.0</td>\n",
       "      <td>2.0</td>\n",
       "    </tr>\n",
       "    <tr>\n",
       "      <th>3</th>\n",
       "      <td>wAZZ-UWGVHI</td>\n",
       "      <td>Whenever I go to a place that doesn’t take App...</td>\n",
       "      <td>8.0</td>\n",
       "      <td>0.0</td>\n",
       "    </tr>\n",
       "    <tr>\n",
       "      <th>4</th>\n",
       "      <td>wAZZ-UWGVHI</td>\n",
       "      <td>Apple Pay is so convenient, secure, and easy t...</td>\n",
       "      <td>34.0</td>\n",
       "      <td>2.0</td>\n",
       "    </tr>\n",
       "  </tbody>\n",
       "</table>\n",
       "</div>"
      ],
      "text/plain": [
       "      Video ID                                            Comment  Likes  \\\n",
       "0  wAZZ-UWGVHI  Let's not forget that Apple Pay in 2014 requir...   95.0   \n",
       "1  wAZZ-UWGVHI  Here in NZ 50% of retailers don’t even have co...   19.0   \n",
       "2  wAZZ-UWGVHI  I will forever acknowledge this channel with t...  161.0   \n",
       "3  wAZZ-UWGVHI  Whenever I go to a place that doesn’t take App...    8.0   \n",
       "4  wAZZ-UWGVHI  Apple Pay is so convenient, secure, and easy t...   34.0   \n",
       "\n",
       "   Sentiment  \n",
       "0        1.0  \n",
       "1        0.0  \n",
       "2        2.0  \n",
       "3        0.0  \n",
       "4        2.0  "
      ]
     },
     "execution_count": 3,
     "metadata": {},
     "output_type": "execute_result"
    }
   ],
   "source": [
    "# Extracting comments csv file into dataframe\n",
    "\n",
    "comments_file = \"Resources/comments.csv\"\n",
    "comments_df = pd.read_csv(comments_file, index_col=0)\n",
    "comments_df.head()"
   ]
  },
  {
   "cell_type": "markdown",
   "id": "c5ab3197",
   "metadata": {},
   "source": [
    "### Cleaning the data\n",
    "\n",
    "* Renamed the columns so that it matches with the database\n",
    "* Filled all the NA with 0's for missing data\n",
    "* Converted float data in columns 'likes','comments_counts', 'views' to integer\n",
    "* Converted the date object to pandas date format so it can be loaded into the database date column without any issues\n",
    "* Dropped duplicate video_id's in order to not voilate primary key constraints in database\n",
    "* Set video_id as index\n"
   ]
  },
  {
   "cell_type": "code",
   "execution_count": 4,
   "id": "762f0f37",
   "metadata": {},
   "outputs": [
    {
     "data": {
      "text/html": [
       "<div>\n",
       "<style scoped>\n",
       "    .dataframe tbody tr th:only-of-type {\n",
       "        vertical-align: middle;\n",
       "    }\n",
       "\n",
       "    .dataframe tbody tr th {\n",
       "        vertical-align: top;\n",
       "    }\n",
       "\n",
       "    .dataframe thead th {\n",
       "        text-align: right;\n",
       "    }\n",
       "</style>\n",
       "<table border=\"1\" class=\"dataframe\">\n",
       "  <thead>\n",
       "    <tr style=\"text-align: right;\">\n",
       "      <th></th>\n",
       "      <th>title</th>\n",
       "      <th>published_at</th>\n",
       "      <th>keywords</th>\n",
       "      <th>likes</th>\n",
       "      <th>comments_counts</th>\n",
       "      <th>views</th>\n",
       "    </tr>\n",
       "    <tr>\n",
       "      <th>video_id</th>\n",
       "      <th></th>\n",
       "      <th></th>\n",
       "      <th></th>\n",
       "      <th></th>\n",
       "      <th></th>\n",
       "      <th></th>\n",
       "    </tr>\n",
       "  </thead>\n",
       "  <tbody>\n",
       "    <tr>\n",
       "      <th>wAZZ-UWGVHI</th>\n",
       "      <td>Apple Pay Is Killing the Physical Wallet After...</td>\n",
       "      <td>2022-08-23</td>\n",
       "      <td>tech</td>\n",
       "      <td>3407</td>\n",
       "      <td>672</td>\n",
       "      <td>135612</td>\n",
       "    </tr>\n",
       "    <tr>\n",
       "      <th>b3x28s61q3c</th>\n",
       "      <td>The most EXPENSIVE thing I own.</td>\n",
       "      <td>2022-08-24</td>\n",
       "      <td>tech</td>\n",
       "      <td>76779</td>\n",
       "      <td>4306</td>\n",
       "      <td>1758063</td>\n",
       "    </tr>\n",
       "    <tr>\n",
       "      <th>4mgePWWCAmA</th>\n",
       "      <td>My New House Gaming Setup is SICK!</td>\n",
       "      <td>2022-08-23</td>\n",
       "      <td>tech</td>\n",
       "      <td>63825</td>\n",
       "      <td>3338</td>\n",
       "      <td>1564007</td>\n",
       "    </tr>\n",
       "    <tr>\n",
       "      <th>kXiYSI7H2b0</th>\n",
       "      <td>Petrol Vs Liquid Nitrogen | Freezing Experimen...</td>\n",
       "      <td>2022-08-23</td>\n",
       "      <td>tech</td>\n",
       "      <td>71566</td>\n",
       "      <td>1426</td>\n",
       "      <td>922918</td>\n",
       "    </tr>\n",
       "    <tr>\n",
       "      <th>ErMwWXQxHp0</th>\n",
       "      <td>Best Back to School Tech 2022!</td>\n",
       "      <td>2022-08-08</td>\n",
       "      <td>tech</td>\n",
       "      <td>96513</td>\n",
       "      <td>5155</td>\n",
       "      <td>1855644</td>\n",
       "    </tr>\n",
       "  </tbody>\n",
       "</table>\n",
       "</div>"
      ],
      "text/plain": [
       "                                                         title published_at  \\\n",
       "video_id                                                                      \n",
       "wAZZ-UWGVHI  Apple Pay Is Killing the Physical Wallet After...   2022-08-23   \n",
       "b3x28s61q3c                    The most EXPENSIVE thing I own.   2022-08-24   \n",
       "4mgePWWCAmA                 My New House Gaming Setup is SICK!   2022-08-23   \n",
       "kXiYSI7H2b0  Petrol Vs Liquid Nitrogen | Freezing Experimen...   2022-08-23   \n",
       "ErMwWXQxHp0                     Best Back to School Tech 2022!   2022-08-08   \n",
       "\n",
       "            keywords  likes  comments_counts    views  \n",
       "video_id                                               \n",
       "wAZZ-UWGVHI     tech   3407              672   135612  \n",
       "b3x28s61q3c     tech  76779             4306  1758063  \n",
       "4mgePWWCAmA     tech  63825             3338  1564007  \n",
       "kXiYSI7H2b0     tech  71566             1426   922918  \n",
       "ErMwWXQxHp0     tech  96513             5155  1855644  "
      ]
     },
     "execution_count": 4,
     "metadata": {},
     "output_type": "execute_result"
    }
   ],
   "source": [
    "# Rename the column headers\n",
    "video_stats_transformed_df = video_stats_df.rename(columns={\"Title\":\"title\",\n",
    "                                               \"Video ID\":\"video_id\",\n",
    "                                               \"Published At\":\"published_at\",\n",
    "                                               \"Keyword\":\"keywords\",\n",
    "                                               \"Likes\":\"likes\",\n",
    "                                               \"Comments\":\"comments_counts\",\n",
    "                                               \"Views\":\"views\"}).copy()\n",
    "\n",
    "# Filling all the NA with 0\n",
    "video_stats_transformed_df = video_stats_transformed_df.fillna(0)\n",
    "\n",
    "# Changing float data types to integer\n",
    "video_stats_transformed_df[['likes','comments_counts', 'views']] = video_stats_transformed_df[['likes','comments_counts','views']].astype(int)\n",
    "\n",
    "# Converting date object to date time format\n",
    "video_stats_transformed_df['published_at'] = pd.to_datetime(video_stats_transformed_df['published_at'])\n",
    "\n",
    "# Setting the index\n",
    "video_stats_transformed_df.drop_duplicates(\"video_id\", inplace=True)\n",
    "video_stats_transformed_df.set_index('video_id', inplace=True)\n",
    "\n",
    "video_stats_transformed_df.head()"
   ]
  },
  {
   "cell_type": "code",
   "execution_count": 5,
   "id": "08c57aec",
   "metadata": {},
   "outputs": [
    {
     "data": {
      "text/html": [
       "<div>\n",
       "<style scoped>\n",
       "    .dataframe tbody tr th:only-of-type {\n",
       "        vertical-align: middle;\n",
       "    }\n",
       "\n",
       "    .dataframe tbody tr th {\n",
       "        vertical-align: top;\n",
       "    }\n",
       "\n",
       "    .dataframe thead th {\n",
       "        text-align: right;\n",
       "    }\n",
       "</style>\n",
       "<table border=\"1\" class=\"dataframe\">\n",
       "  <thead>\n",
       "    <tr style=\"text-align: right;\">\n",
       "      <th></th>\n",
       "      <th>video_id</th>\n",
       "      <th>comment</th>\n",
       "      <th>likes</th>\n",
       "      <th>sentiment</th>\n",
       "    </tr>\n",
       "  </thead>\n",
       "  <tbody>\n",
       "    <tr>\n",
       "      <th>0</th>\n",
       "      <td>wAZZ-UWGVHI</td>\n",
       "      <td>Let's not forget that Apple Pay in 2014 requir...</td>\n",
       "      <td>95</td>\n",
       "      <td>1</td>\n",
       "    </tr>\n",
       "    <tr>\n",
       "      <th>1</th>\n",
       "      <td>wAZZ-UWGVHI</td>\n",
       "      <td>Here in NZ 50% of retailers don’t even have co...</td>\n",
       "      <td>19</td>\n",
       "      <td>0</td>\n",
       "    </tr>\n",
       "    <tr>\n",
       "      <th>2</th>\n",
       "      <td>wAZZ-UWGVHI</td>\n",
       "      <td>I will forever acknowledge this channel with t...</td>\n",
       "      <td>161</td>\n",
       "      <td>2</td>\n",
       "    </tr>\n",
       "    <tr>\n",
       "      <th>3</th>\n",
       "      <td>wAZZ-UWGVHI</td>\n",
       "      <td>Whenever I go to a place that doesn’t take App...</td>\n",
       "      <td>8</td>\n",
       "      <td>0</td>\n",
       "    </tr>\n",
       "    <tr>\n",
       "      <th>4</th>\n",
       "      <td>wAZZ-UWGVHI</td>\n",
       "      <td>Apple Pay is so convenient, secure, and easy t...</td>\n",
       "      <td>34</td>\n",
       "      <td>2</td>\n",
       "    </tr>\n",
       "  </tbody>\n",
       "</table>\n",
       "</div>"
      ],
      "text/plain": [
       "      video_id                                            comment  likes  \\\n",
       "0  wAZZ-UWGVHI  Let's not forget that Apple Pay in 2014 requir...     95   \n",
       "1  wAZZ-UWGVHI  Here in NZ 50% of retailers don’t even have co...     19   \n",
       "2  wAZZ-UWGVHI  I will forever acknowledge this channel with t...    161   \n",
       "3  wAZZ-UWGVHI  Whenever I go to a place that doesn’t take App...      8   \n",
       "4  wAZZ-UWGVHI  Apple Pay is so convenient, secure, and easy t...     34   \n",
       "\n",
       "   sentiment  \n",
       "0          1  \n",
       "1          0  \n",
       "2          2  \n",
       "3          0  \n",
       "4          2  "
      ]
     },
     "execution_count": 5,
     "metadata": {},
     "output_type": "execute_result"
    }
   ],
   "source": [
    "# Renaming the column headers\n",
    "comments_transfromed_df = comments_df.rename(columns={\"Video ID\":\"video_id\",\n",
    "                                         \"Comment\":\"comment\",\n",
    "                                         \"Likes\":\"likes\",\n",
    "                                         \"Sentiment\":\"sentiment\"}).copy()\n",
    "# Filling all the NA with 0\n",
    "comments_transfromed_df = comments_transfromed_df.fillna(0)\n",
    "\n",
    "# Changing float data types to integer\n",
    "comments_transfromed_df[['likes','sentiment']] = comments_transfromed_df[['likes','sentiment']].astype(int)\n",
    "comments_transfromed_df.head()"
   ]
  },
  {
   "cell_type": "markdown",
   "id": "f7758df8",
   "metadata": {},
   "source": [
    "### Connecting to PostgreSQL Database\n",
    "\n",
    "* Connected to youtube_stats_db \n",
    "* Created engine using connection string"
   ]
  },
  {
   "cell_type": "code",
   "execution_count": 6,
   "id": "e0f945a0",
   "metadata": {},
   "outputs": [],
   "source": [
    "protocol = 'postgresql'\n",
    "username = my_postgres\n",
    "password = my_password\n",
    "host = 'localhost'\n",
    "port = 5432\n",
    "database_name = 'youtube_stats_db'\n",
    "rds_connection_string = f'{protocol}://{username}:{password}@{host}:{port}/{database_name}'\n",
    "engine = create_engine(rds_connection_string)"
   ]
  },
  {
   "cell_type": "markdown",
   "id": "8ede092c",
   "metadata": {},
   "source": [
    "### Load Data to Database\n",
    "\n",
    "* Checked for existing tables in the database\n",
    "* Uploaded transformed dataframes into database tables using pandas and sqlalchemy"
   ]
  },
  {
   "cell_type": "code",
   "execution_count": 7,
   "id": "ac40b56d",
   "metadata": {},
   "outputs": [
    {
     "data": {
      "text/plain": [
       "['comments', 'video_stats']"
      ]
     },
     "execution_count": 7,
     "metadata": {},
     "output_type": "execute_result"
    }
   ],
   "source": [
    "# Confirming tables\n",
    "\n",
    "inspector = inspect(engine)\n",
    "inspector.get_table_names()"
   ]
  },
  {
   "cell_type": "code",
   "execution_count": 8,
   "id": "ec856c84",
   "metadata": {},
   "outputs": [
    {
     "data": {
      "text/plain": [
       "869"
      ]
     },
     "execution_count": 8,
     "metadata": {},
     "output_type": "execute_result"
    }
   ],
   "source": [
    "# Using pandas to upload transformed video stats dataframe into database\n",
    "\n",
    "video_stats_transformed_df.to_sql(name='video_stats', con=engine, if_exists='append', index=True)"
   ]
  },
  {
   "cell_type": "code",
   "execution_count": 9,
   "id": "bb141cb3",
   "metadata": {},
   "outputs": [
    {
     "data": {
      "text/plain": [
       "409"
      ]
     },
     "execution_count": 9,
     "metadata": {},
     "output_type": "execute_result"
    }
   ],
   "source": [
    "# Using pandas to upload transformed comments dataframe into database\n",
    "\n",
    "comments_transfromed_df.to_sql(name='comments', con=engine, if_exists='append', index=False)"
   ]
  }
 ],
 "metadata": {
  "kernelspec": {
   "display_name": "PythonData38",
   "language": "python",
   "name": "pythondata38"
  },
  "language_info": {
   "codemirror_mode": {
    "name": "ipython",
    "version": 3
   },
   "file_extension": ".py",
   "mimetype": "text/x-python",
   "name": "python",
   "nbconvert_exporter": "python",
   "pygments_lexer": "ipython3",
   "version": "3.8.13"
  }
 },
 "nbformat": 4,
 "nbformat_minor": 5
}
